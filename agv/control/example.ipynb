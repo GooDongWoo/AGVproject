{
 "cells": [
  {
   "cell_type": "markdown",
   "metadata": {},
   "source": [
    "# JBArm.py test"
   ]
  },
  {
   "cell_type": "code",
   "execution_count": 1,
   "metadata": {},
   "outputs": [
    {
     "name": "stdout",
     "output_type": "stream",
     "text": [
      "Succeeded to open the port\n",
      "Succeeded to change the baudrate\n"
     ]
    }
   ],
   "source": [
    "# test JBArm\n",
    "import numpy as np\n",
    "from JBArm import JBArm\n",
    "from time import sleep\n",
    "\n",
    "arm = JBArm()\n",
    "\n",
    "# move along with X axis\n",
    "arm.move_to_xyz(arm.x + np.array([50, 0, 0]))\n",
    "sleep(2)\n",
    "\n",
    "# move along with Z axis\n",
    "arm.move_to_xyz(arm.x + np.array([0, 0, -100]))\n",
    "sleep(2)\n",
    "\n",
    "# move along with Y axis\n",
    "arm.move_to_xyz(np.array([150, -150, 150]))\n",
    "sleep(2)\n",
    "\n",
    "arm.move_to_xyz(arm.x + np.array([0, 300, 0]))\n",
    "sleep(2)\n",
    "\n",
    "# to ready position\n",
    "arm.ready()\n",
    "\n",
    "# move along with X, Z plain\n",
    "arm.move_to_xyz(arm.x + np.array([50, 0, -230]))\n",
    "sleep(2)\n",
    "\n",
    "# grab\n",
    "arm.grab()\n",
    "\n",
    "# release\n",
    "arm.release()\n",
    "\n",
    "# to ready position\n",
    "arm.ready()"
   ]
  },
  {
   "cell_type": "markdown",
   "metadata": {},
   "source": [
    "# Aruco Maker Visualization"
   ]
  },
  {
   "cell_type": "code",
   "execution_count": 6,
   "metadata": {},
   "outputs": [
    {
     "data": {
      "text/plain": [
       "371"
      ]
     },
     "execution_count": 6,
     "metadata": {},
     "output_type": "execute_result"
    }
   ],
   "source": [
    "# widget\n",
    "import traitlets\n",
    "import ipywidgets\n",
    "from IPython.display import display\n",
    "\n",
    "# JetBot 카메라\n",
    "from SCSCtrl import TTLServo\n",
    "from jetbot import Camera, bgr8_to_jpeg\n",
    "\n",
    "camera = Camera()\n",
    "TTLServo.servoAngleCtrl(1, -7, 1, 150)\n",
    "TTLServo.servoAngleCtrl(5, -30, 1, 150)"
   ]
  },
  {
   "cell_type": "code",
   "execution_count": 10,
   "metadata": {},
   "outputs": [
    {
     "data": {
      "application/vnd.jupyter.widget-view+json": {
       "model_id": "16244a5ae1054761869ef683ec401a1a",
       "version_major": 2,
       "version_minor": 0
      },
      "text/plain": [
       "Image(value=b'\\xff\\xd8\\xff\\xe0\\x00\\x10JFIF\\x00\\x01\\x01\\x00\\x00\\x01\\x00\\x01\\x00\\x00\\xff\\xdb\\x00C\\x00\\x02\\x01\\x0…"
      ]
     },
     "metadata": {},
     "output_type": "display_data"
    }
   ],
   "source": [
    "# essential\n",
    "import time\n",
    "import numpy as np\n",
    "import cv2\n",
    "\n",
    "# widget\n",
    "import traitlets\n",
    "import ipywidgets\n",
    "from IPython.display import display\n",
    "from jetbot import Camera, bgr8_to_jpeg\n",
    "\n",
    "# user\n",
    "from BoxDetector import BoxDetector\n",
    "\n",
    "box_detector = BoxDetector()\n",
    "\n",
    "def tf(frame):\n",
    "    fr = frame.copy()\n",
    "    fr = cv2.resize(fr, (300, 300), interpolation=cv2.INTER_LINEAR)\n",
    "    \n",
    "    boxes = box_detector.detect_boxes(fr)\n",
    "    \n",
    "    for num, x_box in boxes.items():\n",
    "        x_cam = np.linalg.inv(box_detector.A) @ np.hstack([x_box, 1])\n",
    "        x_cam = x_cam[:3] / x_cam[2]\n",
    "        x_img = box_detector.cam_intrinsic @ x_cam\n",
    "        \n",
    "        x, y = int(x_img[0]), int(x_img[1])\n",
    "        \n",
    "        cv2.circle(fr, (x, y), 4, (255, 0, 0), -1)\n",
    "        cv2.putText(fr, f\"ID: {num}\", (x - 10, y - 10), cv2.FONT_HERSHEY_PLAIN, 1.0, (0, 255, 0), 1)\n",
    "    \n",
    "#     time.sleep(0.05)\n",
    "    return bgr8_to_jpeg(fr)\n",
    "    \n",
    "img_widget = ipywidgets.Image()  # this width and height doesn't necessarily have to match the camera\n",
    "cam_link = traitlets.dlink((camera, 'value'), (img_widget, 'value'), transform=tf)\n",
    "display(img_widget)"
   ]
  },
  {
   "cell_type": "code",
   "execution_count": null,
   "metadata": {},
   "outputs": [],
   "source": [
    "camera.stop()"
   ]
  },
  {
   "cell_type": "markdown",
   "metadata": {},
   "source": [
    "# BoxDetector and JBArm test"
   ]
  },
  {
   "cell_type": "code",
   "execution_count": 11,
   "metadata": {},
   "outputs": [],
   "source": [
    "# essential\n",
    "from time import sleep\n",
    "import numpy as np\n",
    "\n",
    "# user\n",
    "from BoxDetector import BoxDetector\n",
    "from JBArm import JBArm\n",
    "\n",
    "arm = JBArm()\n",
    "box_detector = BoxDetector()"
   ]
  },
  {
   "cell_type": "code",
   "execution_count": 15,
   "metadata": {},
   "outputs": [
    {
     "name": "stdout",
     "output_type": "stream",
     "text": [
      "ID: 0 at [154.67586952  42.18133951 -71.8633672 ]\n"
     ]
    }
   ],
   "source": [
    "# marker info\n",
    "fr = cv2.resize(camera.value, (300, 300), interpolation=cv2.INTER_LINEAR)\n",
    "boxes = box_detector.detect_boxes(fr)\n",
    "for num, x_box in boxes.items():\n",
    "    print(f\"ID: {num} at {x_box}\")\n",
    "\n",
    "box_idx = 0\n",
    "x_box = boxes[box_idx]\n",
    "\n",
    "arm.pick(x_box)\n",
    "arm.place(x_box + np.array([0, -100, 0]))"
   ]
  },
  {
   "cell_type": "markdown",
   "metadata": {},
   "source": [
    "# Collect Dataset"
   ]
  },
  {
   "cell_type": "code",
   "execution_count": null,
   "metadata": {},
   "outputs": [],
   "source": [
    "import ipywidgets.widgets as widgets\n",
    "\n",
    "robot = Robot()\n",
    "robot.set_motors(0.5, 0.5)\n",
    "\n",
    "x_slider = widgets.FloatSlider(min=-0.5, max=0.5, step=0.001, description='x')\n",
    "\n",
    "def on_change_x(change):\n",
    "    r_speed = 0.5 + x_slider.value\n",
    "    l_speed = 1 - r_speed\n",
    "    robot.set_motors(l_speed, r_speed)\n",
    "    \n",
    "x_slider.observe(on_change_x, names='value')\n",
    "\n",
    "display(widgets.VBox([x_slider]))"
   ]
  },
  {
   "cell_type": "code",
   "execution_count": null,
   "metadata": {},
   "outputs": [],
   "source": [
    "robot.stop()"
   ]
  }
 ],
 "metadata": {
  "kernelspec": {
   "display_name": "Python 3",
   "language": "python",
   "name": "python3"
  },
  "language_info": {
   "codemirror_mode": {
    "name": "ipython",
    "version": 3
   },
   "file_extension": ".py",
   "mimetype": "text/x-python",
   "name": "python",
   "nbconvert_exporter": "python",
   "pygments_lexer": "ipython3",
   "version": "3.6.9"
  }
 },
 "nbformat": 4,
 "nbformat_minor": 4
}
